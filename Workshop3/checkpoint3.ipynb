{
 "cells": [
  {
   "cell_type": "code",
   "execution_count": 1,
   "metadata": {},
   "outputs": [],
   "source": [
    "import numpy as np\n",
    "import pandas as pd\n",
    "import matplotlib.pyplot as plt\n",
    "import pylab\n",
    "\n"
   ]
  },
  {
   "cell_type": "code",
   "execution_count": 2,
   "metadata": {},
   "outputs": [
    {
     "name": "stdout",
     "output_type": "stream",
     "text": [
      "The column headers of this data set are: \n",
      "ID\n",
      "AdmissionLengthDays\n",
      "Death_1\n",
      "Admission_Type\n",
      "Insurance_Type\n",
      "EnglishLanguage_1\n",
      "Religion_Type\n",
      "Married_1\n",
      "Race\n",
      "Dx\n"
     ]
    }
   ],
   "source": [
    "df = pd.read_csv('desktop/mdst_workshops/workshop3/HospitalAdmissionsData.csv')\n",
    "headers = np.array(df.columns)\n",
    "\n",
    "def printArray (headers):\n",
    "    for i in headers:\n",
    "        print(i)\n",
    "        \n",
    "#What are the column headers or features in this data set?\n",
    "print(\"The column headers of this data set are: \",)        \n",
    "printArray(headers)\n",
    "\n"
   ]
  },
  {
   "cell_type": "code",
   "execution_count": 3,
   "metadata": {},
   "outputs": [
    {
     "name": "stdout",
     "output_type": "stream",
     "text": [
      "There are 1 floats 4 ints, and 5 objects\n"
     ]
    }
   ],
   "source": [
    "types = df.dtypes\n",
    "#How many features are floats? How many are integers?\n",
    "\n",
    "numFloat = 0\n",
    "numInt = 0\n",
    "numObject = 0\n",
    "\n",
    "for i in types:\n",
    "    if i == np.int64:\n",
    "        numInt = numInt + 1\n",
    "        \n",
    "    if i == np.float64:\n",
    "        numFloat = numFloat + 1\n",
    "        \n",
    "    if i == np.object:\n",
    "        numObject = numObject + 1\n",
    "        \n",
    "\n",
    "print('There are', numFloat, 'floats', numInt, 'ints, and', numObject, 'objects')"
   ]
  },
  {
   "cell_type": "code",
   "execution_count": 4,
   "metadata": {},
   "outputs": [
    {
     "name": "stdout",
     "output_type": "stream",
     "text": [
      "<class 'pandas.core.frame.DataFrame'>\n",
      "RangeIndex: 58863 entries, 0 to 58862\n",
      "Data columns (total 10 columns):\n",
      "ID                     58863 non-null int64\n",
      "AdmissionLengthDays    58863 non-null float64\n",
      "Death_1                58863 non-null int64\n",
      "Admission_Type         58863 non-null object\n",
      "Insurance_Type         58863 non-null object\n",
      "EnglishLanguage_1      58863 non-null int64\n",
      "Religion_Type          58408 non-null object\n",
      "Married_1              58863 non-null int64\n",
      "Race                   58863 non-null object\n",
      "Dx                     58863 non-null object\n",
      "dtypes: float64(1), int64(4), object(5)\n",
      "memory usage: 4.5+ MB\n",
      "Objects are: Admission_Type, Insurance_Type, Religion_Type, Race, Dx\n"
     ]
    }
   ],
   "source": [
    "#Which features are objects (non-numeric variables)?\n",
    "df.info()\n",
    "\n",
    "#Objects are: Admission_Type, Insurance_Type, Religion_Type, Race, Dx\n",
    "print(\"Objects are: Admission_Type, Insurance_Type, Religion_Type, Race, Dx\")"
   ]
  },
  {
   "cell_type": "code",
   "execution_count": 5,
   "metadata": {},
   "outputs": [
    {
     "name": "stdout",
     "output_type": "stream",
     "text": [
      "['private' 'medicare' 'government' 'medicaid' 'self pay']\n"
     ]
    }
   ],
   "source": [
    "#What are the possible 'values' for insurance type?\n",
    "insuranceTypeValues = df['Insurance_Type'].unique()\n",
    "print(insuranceTypeValues)"
   ]
  },
  {
   "cell_type": "code",
   "execution_count": 6,
   "metadata": {},
   "outputs": [
    {
     "name": "stdout",
     "output_type": "stream",
     "text": [
      "count    58863.000000\n",
      "mean        10.138978\n",
      "std         12.465611\n",
      "min         -0.945139\n",
      "25%          3.743056\n",
      "50%          6.465972\n",
      "75%         11.798264\n",
      "max        294.660417\n",
      "Name: AdmissionLengthDays, dtype: float64\n"
     ]
    }
   ],
   "source": [
    "#Show the summary statistics for the admission length.\n",
    "summaryStats = df['AdmissionLengthDays'].describe()\n",
    "print(summaryStats)"
   ]
  },
  {
   "cell_type": "code",
   "execution_count": 7,
   "metadata": {},
   "outputs": [
    {
     "name": "stdout",
     "output_type": "stream",
     "text": [
      "The most common admission type is emergency\n",
      "The most common insurance type is medicare\n",
      "The most common religious type is catholic\n",
      "The most common racial type is white\n",
      "The most common diagnosis type is newborn\n"
     ]
    }
   ],
   "source": [
    "#What is the most common admission type, insurance type, religion type, race, and diagnosis (Dx)?\n",
    "max_admit_type = df['Admission_Type'].mode()[0];\n",
    "max_insur_type = df['Insurance_Type'].mode()[0];\n",
    "max_rel_type = df['Religion_Type'].mode()[0];\n",
    "max_race = df['Race'].mode()[0];\n",
    "max_diag = df['Dx'].mode()[0];\n",
    "\n",
    "print('The most common admission type is', max_admit_type)\n",
    "print('The most common insurance type is', max_insur_type)\n",
    "print('The most common religious type is', max_rel_type)\n",
    "print('The most common racial type is', max_race)\n",
    "print('The most common diagnosis type is', max_diag)\n"
   ]
  },
  {
   "cell_type": "code",
   "execution_count": 8,
   "metadata": {},
   "outputs": [
    {
     "data": {
      "image/png": "[encoded data removed]",
      "text/plain": [
       "<Figure size 432x288 with 1 Axes>"
      ]
     },
     "metadata": {
      "needs_background": "light"
     },
     "output_type": "display_data"
    },
    {
     "data": {
      "image/png": "[encoded data removed]",
      "text/plain": [
       "<Figure size 432x288 with 1 Axes>"
      ]
     },
     "metadata": {
      "needs_background": "light"
     },
     "output_type": "display_data"
    },
    {
     "name": "stdout",
     "output_type": "stream",
     "text": [
      "These two histograms show us that every 50ish days they accept 1/10 as many people as) \n",
      "they accepted the 50 days prior. The data is quite linear when examined logarithmically\n"
     ]
    }
   ],
   "source": [
    "#Show a histogram for admission days (with appropriate labels, titles, etc), and also show a histogram for admission days on a log scale. Describe what you see.\n",
    "admit_days = df['AdmissionLengthDays']\n",
    "\n",
    "plt.hist(admit_days)\n",
    "plt.xlabel('Admission Length (days)')\n",
    "plt.ylabel('Frequency')\n",
    "plt.title('Histogram of Admission Length')\n",
    "plt.show()\n",
    "\n",
    "plt.hist(admit_days)\n",
    "plt.xlabel('Admission Length (days)')\n",
    "plt.ylabel('Frequency')\n",
    "plt2=plt.yscale('log', nonposy='clip')\n",
    "plt.title('Histogram of Admission Length (logarithmic)')\n",
    "plt.show()\n",
    "\n",
    "print(\"\"\"These two histograms show us that every 50ish days they accept 1/10 as many people as) \n",
    "they accepted the 50 days prior. The data is quite linear when examined logarithmically\"\"\")\n"
   ]
  },
  {
   "cell_type": "code",
   "execution_count": 81,
   "metadata": {},
   "outputs": [
    {
     "name": "stdout",
     "output_type": "stream",
     "text": [
      "Average length of admission for those who died: 10.12961\n",
      "Average length of admission for those who did not die: 10.14001\n",
      "Average length of admission: 0    10.138978\n",
      "dtype: float64\n"
     ]
    },
    {
     "data": {
      "image/png": "[encoded data removed]",
      "text/plain": [
       "<Figure size 432x288 with 1 Axes>"
      ]
     },
     "metadata": {
      "needs_background": "light"
     },
     "output_type": "display_data"
    }
   ],
   "source": [
    "#Compare the average length of admission between those who died versus those who did not die. Show a visualization, with appropriate labels, titles, etc.\n",
    "avgLength = df.groupby('Death_1').mean()['AdmissionLengthDays'];\n",
    "\n",
    "frame = df.groupby('Death_1')['AdmissionLengthDays'];\n",
    "\n",
    "avgTotal = df['AdmissionLengthDays'].mean();\n",
    "avgTotal = pd.Series(avgTotal);\n",
    "\n",
    "\n",
    "avgLength = avgLength.append(avgTotal);\n",
    "avgLength.index = ('Died','Did not die','Average');\n",
    "avgLength.plot.bar();\n",
    "\n",
    "plt.ylim([10.12, 10.15]);\n",
    "\n",
    "\n",
    "\n",
    "print('Average length of admission for those who died:', round(avgLength[1],5));\n",
    "print('Average length of admission for those who did not die:',round(avgLength[0],5));\n",
    "print('Average length of admission:', avgTotal);\n",
    "plt.show();\n",
    "\n",
    "\n",
    "\n"
   ]
  },
  {
   "cell_type": "code",
   "execution_count": 98,
   "metadata": {},
   "outputs": [
    {
     "name": "stdout",
     "output_type": "stream",
     "text": [
      "The linear association between death and insuranceis equal to 0.901\n",
      "The chi squared test produced the following output: (990.8535593949656, 3.425615316200906e-213, 4, array([[ 1603.93780473,  5206.26864074, 25357.70733738, 20293.73076466,\n",
      "          549.35545249],\n",
      "       [  177.06219527,   574.73135926,  2799.29266262,  2240.26923534,\n",
      "           60.64454751]]))\n",
      "In this case, the p-value ( 3.425615316200906e-213 ) is extremely close to 0 which allows us to reject the null hypothesis (which states that there is no association between the two variables).\n"
     ]
    }
   ],
   "source": [
    "#Describe the association between death and insurance type and show a visualization or test.\n",
    "DeathInsuranceRatio = df['Death_1'].value_counts('Insurance_Type')\n",
    "\n",
    "from scipy import stats\n",
    "crossTab = pd.crosstab(df.Death_1, df.Insurance_Type)\n",
    "chi= stats.chi2_contingency(crossTab)\n",
    "\n",
    "print('The linear association between death and insuranceis equal to', round(DeathInsuranceRatio[0],3))\n",
    "print('The chi squared test produced the following output:', chi)\n",
    "print('In this case, the p-value (',chi[1],') is extremely close to 0 which allows us to reject the null hypothesis (which states that there is no association between the two variables).')"
   ]
  },
  {
   "cell_type": "code",
   "execution_count": null,
   "metadata": {},
   "outputs": [],
   "source": []
  }
 ],
 "metadata": {
  "kernelspec": {
   "display_name": "Python 3",
   "language": "python",
   "name": "python3"
  },
  "language_info": {
   "codemirror_mode": {
    "name": "ipython",
    "version": 3
   },
   "file_extension": ".py",
   "mimetype": "text/x-python",
   "name": "python",
   "nbconvert_exporter": "python",
   "pygments_lexer": "ipython3",
   "version": "3.7.4"
  }
 },
 "nbformat": 4,
 "nbformat_minor": 2
}
