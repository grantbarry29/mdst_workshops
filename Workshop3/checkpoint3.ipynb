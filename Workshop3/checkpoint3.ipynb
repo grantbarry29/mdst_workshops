{
 "cells": [
  {
   "cell_type": "code",
   "execution_count": 2,
   "metadata": {},
   "outputs": [
    {
     "data": {
      "text/plain": [
       "Index(['ID', 'AdmissionLengthDays', 'Death_1', 'Admission_Type',\n",
       "       'Insurance_Type', 'EnglishLanguage_1', 'Religion_Type', 'Married_1',\n",
       "       'Race', 'Dx'],\n",
       "      dtype='object')"
      ]
     },
     "execution_count": 2,
     "metadata": {},
     "output_type": "execute_result"
    }
   ],
   "source": [
    "import numpy as np\n",
    "import pandas as pd\n",
    "import matplotlib.pyplot as plt\n",
    "\n"
   ]
  },
  {
   "cell_type": "code",
   "execution_count": 28,
   "metadata": {},
   "outputs": [
    {
     "name": "stdout",
     "output_type": "stream",
     "text": [
      "The column headers of this data set are: \n",
      "ID\n",
      "AdmissionLengthDays\n",
      "Death_1\n",
      "Admission_Type\n",
      "Insurance_Type\n",
      "EnglishLanguage_1\n",
      "Religion_Type\n",
      "Married_1\n",
      "Race\n",
      "Dx\n"
     ]
    }
   ],
   "source": [
    "df = pd.read_csv('desktop/mdst_workshops/workshop3/HospitalAdmissionsData.csv')\n",
    "types = pd.array(df.columns)\n",
    "\n",
    "def printArray (types):\n",
    "    for i in types:\n",
    "        print(i)\n",
    "        \n",
    "#What are the column headers or features in this data set?\n",
    "print(\"The column headers of this data set are: \",)        \n",
    "printArray(types)\n",
    "\n"
   ]
  },
  {
   "cell_type": "code",
   "execution_count": null,
   "metadata": {},
   "outputs": [],
   "source": []
  }
 ],
 "metadata": {
  "kernelspec": {
   "display_name": "Python 3",
   "language": "python",
   "name": "python3"
  },
  "language_info": {
   "codemirror_mode": {
    "name": "ipython",
    "version": 3
   },
   "file_extension": ".py",
   "mimetype": "text/x-python",
   "name": "python",
   "nbconvert_exporter": "python",
   "pygments_lexer": "ipython3",
   "version": "3.7.4"
  }
 },
 "nbformat": 4,
 "nbformat_minor": 2
}
